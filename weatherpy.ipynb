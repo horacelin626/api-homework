{
 "cells": [
  {
   "cell_type": "code",
   "execution_count": null,
   "metadata": {},
   "outputs": [],
   "source": [
    "import os\n",
    "import numpy as np\n",
    "import pandas as pd\n",
    "import matplotlib.pyplot as plt\n",
    "import requests\n",
    "import datetime as dt\n",
    "import citipy.citipy as cpy\n",
    "import random\n",
    "from Config import api_key\n"
   ]
  },
  {
   "cell_type": "code",
   "execution_count": null,
   "metadata": {},
   "outputs": [],
   "source": [
    "city_name = []\n",
    "country_code = []\n",
    "latitude = []\n",
    "country =[]\n",
    "date_list = []\n",
    "longitude = []\n",
    "Temperature = []\n",
    "Humidity = []\n",
    "Cloudiness = []\n",
    "Wind_Speed = []\n",
    "cities = []\n",
    " \n",
    "\n",
    "\n",
    "url = 'https://openweathermap.org/data/2.5/weather?'\n",
    "units = 'imperial'\n",
    "\n",
    "\n",
    "lat_list = {\"min\":-90,\"max\":90}\n",
    "long_list = {\"min\":-180,\"max\":180}"
   ]
  },
  {
   "cell_type": "code",
   "execution_count": null,
   "metadata": {},
   "outputs": [],
   "source": [
    "def data_extraction(response_json):\n",
    "    latitude.append(response_json['coord']['lat'])\n",
    "    longitude.append(response_json['coord']['lon'])\n",
    "    Temperature.append(response_json['main']['temp_max'])\n",
    "    Humidity.append(response_json['main']['humidity'])\n",
    "    country.append(response_json['sys']['country'])\n",
    "    date_list.append(dt.datetime.fromtimestamp(response_json['dt']))\n",
    "    Cloudiness.append(response_json['wind']['speed'])\n",
    "    Wind_Speed.append(response_json['clouds']['all'])\n",
    "    "
   ]
  },
  {
   "cell_type": "code",
   "execution_count": null,
   "metadata": {},
   "outputs": [],
   "source": [
    "not_done = True\n",
    "while not_done:\n",
    "    \n",
    "    city = cpy.nearest_city(random.randint(lat_list['min'],lat_list['max']),random.randint(long_list['min'],long_list['max']))\n",
    "    citi = city.city_name\n",
    "    \n",
    "    citi = citi.replace(' ', '%20')\n",
    "    \n",
    "    if citi not in cities:\n",
    "        \n",
    "        final_url = f\"{url}&units={units}&appid={api_key}&q={citi}\"\n",
    "        response = requests.get(final_url)\n",
    "        \n",
    "        if response.status_code == 200:\n",
    "            \n",
    "            try:\n",
    "                \n",
    "                response_json = response.json()\n",
    "               \n",
    "                cities.append(citi)\n",
    "                \n",
    "                data_extraction(response_json)\n",
    "                \n",
    "                print(f\"Processing Record {len(cities)} out of 501\\n\"\n",
    "                f\"Obtaining the weather data for city {city.city_name},{city.country_code} from:\\n\"\n",
    "                f\"{final_url}\\n\")\n",
    "           \n",
    "            except:\n",
    "                print('Skipping an entry due to lack of weather data\\n')\n",
    "        \n",
    "        else:\n",
    "            print(\"Skipping an entry due to bad response from openweathermap.org\\n\")\n",
    "        \n",
    "        if len(cities)==501:\n",
    "            not_done = False\n",
    "            break"
   ]
  },
  {
   "cell_type": "code",
   "execution_count": null,
   "metadata": {},
   "outputs": [],
   "source": [
    "Final_Data = pd.DataFrame(\n",
    "    {\n",
    "        \"city\":citi,\n",
    "        \"Country\":country,\n",
    "        \"Date\":date_list,\n",
    "        \"latitude\":latitude,\n",
    "        \"longitude\":longitude,\n",
    "        \"Max Temperature\":Temperature,\n",
    "        \"Humidity\":Humidity,\n",
    "        \"Cloudiness\":Cloudiness,\n",
    "        \"Wind_Speed\":Wind_Speed\n",
    "    }\n",
    ")\n",
    "\n",
    "print(Final_Data)\n",
    "Final_Data.to_csv(\"WeatherPy_Result.csv\", index=False, header=True)"
   ]
  },
  {
   "cell_type": "code",
   "execution_count": null,
   "metadata": {},
   "outputs": [],
   "source": [
    "plt.scatter(x=Final_Data['latitude'],\n",
    "            y=Final_Data['Max Temperature'],\n",
    "            edgecolors='k',\n",
    "            alpha=0.7)\n",
    "plt.xlabel('Latitudes')\n",
    "plt.ylabel('Max Temperature(F)')\n",
    "plt.title(f\"City Latitudes vs. Max Temperature ({Final_Data['Date'].dt.date[0]})\")\n",
    "plt.savefig(\"WeatherPy_Result1.png\")\n",
    "plt.xlim(min(Final_Data['latitude']-10),max(Final_Data['latitude']+10))\n",
    "plt.show()"
   ]
  },
  {
   "cell_type": "code",
   "execution_count": null,
   "metadata": {},
   "outputs": [],
   "source": [
    "plt.scatter(x=Final_Data['latitude'],\n",
    "            y=Final_Data['Humidity'],\n",
    "            edgecolors='k',\n",
    "            alpha=0.7)\n",
    "plt.xlabel('Latitudes')\n",
    "plt.ylabel('Humidity(%)')\n",
    "plt.title(f\"City Latitudes vs. Humidity ({Final_Data['Date'].dt.date[0]})\")\n",
    "plt.savefig(\"WeatherPy_Result2.png\")\n",
    "plt.xlim(min(Final_Data['latitude']-10),max(Final_Data['latitude']+10))\n",
    "plt.show()"
   ]
  },
  {
   "cell_type": "code",
   "execution_count": null,
   "metadata": {},
   "outputs": [],
   "source": [
    "plt.scatter(x=Final_Data['latitude'],\n",
    "            y=Final_Data['Cloudiness'],\n",
    "            edgecolors='k',\n",
    "            alpha=0.7)\n",
    "plt.xlabel('Latitudes')\n",
    "plt.ylabel('Cloudiness(%)')\n",
    "plt.title(f\"City Latitudes vs. Cloudiness ({Final_Data['Date'].dt.date[0]})\")\n",
    "plt.savefig(\"WeatherPy_Result3.png\")\n",
    "plt.xlim(min(Final_Data['latitude']-10),max(Final_Data['latitude']+10))\n",
    "plt.show()\n"
   ]
  },
  {
   "cell_type": "code",
   "execution_count": null,
   "metadata": {},
   "outputs": [],
   "source": [
    "plt.scatter(x=Final_Data['latitude'],\n",
    "            y=Final_Data['Wind_Speed'],\n",
    "            edgecolors='k',\n",
    "            alpha=0.7)\n",
    "plt.xlabel('Latitudes')\n",
    "plt.ylabel('Wind Speed (mph)')\n",
    "plt.title(f\"City Latitudes vs. Wind Speed ({Final_Data['Date'].dt.date[0]})\")\n",
    "plt.savefig(\"WeatherPy_Result4.png\")\n",
    "plt.xlim(min(Final_Data['latitude']-10),max(Final_Data['latitude']+10))\n",
    "plt.show()\n"
   ]
  }
 ],
 "metadata": {
  "kernelspec": {
   "display_name": "Python 3",
   "language": "python",
   "name": "python3"
  },
  "language_info": {
   "codemirror_mode": {
    "name": "ipython",
    "version": 3
   },
   "file_extension": ".py",
   "mimetype": "text/x-python",
   "name": "python",
   "nbconvert_exporter": "python",
   "pygments_lexer": "ipython3",
   "version": "3.7.1"
  }
 },
 "nbformat": 4,
 "nbformat_minor": 2
}
